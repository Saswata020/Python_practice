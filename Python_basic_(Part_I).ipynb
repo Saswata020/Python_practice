{
  "nbformat": 4,
  "nbformat_minor": 0,
  "metadata": {
    "colab": {
      "provenance": [],
      "authorship_tag": "ABX9TyMF9xgxSNFdpGbxqMlEJwU4",
      "include_colab_link": true
    },
    "kernelspec": {
      "name": "python3",
      "display_name": "Python 3"
    },
    "language_info": {
      "name": "python"
    }
  },
  "cells": [
    {
      "cell_type": "markdown",
      "metadata": {
        "id": "view-in-github",
        "colab_type": "text"
      },
      "source": [
        "<a href=\"https://colab.research.google.com/github/Saswata020/Python_practice/blob/main/Python_basic_(Part_I).ipynb\" target=\"_parent\"><img src=\"https://colab.research.google.com/assets/colab-badge.svg\" alt=\"Open In Colab\"/></a>"
      ]
    },
    {
      "cell_type": "markdown",
      "source": [
        "#1. Write a Python program to print the following string in a specific format (see the output).\n",
        "\n",
        "Output :\n",
        "\n",
        "\n",
        "\n",
        "```\n",
        "Twinkle, twinkle, little star,\n",
        "\tHow I wonder what you are!\n",
        "\t\tUp above the world so high,\n",
        "\t\tLike a diamond in the sky.\n",
        "Twinkle, twinkle, little star,\n",
        "\tHow I wonder what you are\n",
        "```\n",
        "\n"
      ],
      "metadata": {
        "id": "m2cBMoAmqtMN"
      }
    },
    {
      "cell_type": "code",
      "execution_count": null,
      "metadata": {
        "colab": {
          "base_uri": "https://localhost:8080/"
        },
        "id": "0zNNoAi5qeJc",
        "outputId": "32a8f963-c222-48ef-afc6-e7539bfca1cb"
      },
      "outputs": [
        {
          "output_type": "stream",
          "name": "stdout",
          "text": [
            "Twinkle, twinkle, little star,\n",
            "    How I wonder what you are! \n",
            "        Up above the world so high,           \n",
            "        Like a diamond in the sky. \n",
            "Twinkle, twinkle, little star, \n",
            "    How I wonder what you are\n"
          ]
        }
      ],
      "source": [
        "print('''Twinkle, twinkle, little star,\n",
        "    How I wonder what you are!\n",
        "        Up above the world so high,\n",
        "        Like a diamond in the sky.\n",
        "Twinkle, twinkle, little star,\n",
        "    How I wonder what you are''')"
      ]
    },
    {
      "cell_type": "markdown",
      "source": [
        "#2. Write a Python program to find out what version of Python you are using."
      ],
      "metadata": {
        "id": "WYYf9I1orAvs"
      }
    },
    {
      "cell_type": "code",
      "source": [
        "import sys\n",
        "print(\"Python version\")\n",
        "print (sys.version)"
      ],
      "metadata": {
        "colab": {
          "base_uri": "https://localhost:8080/"
        },
        "id": "HoZDdwJMq_a3",
        "outputId": "ee45bea4-d800-445f-99b4-7170271f68ee"
      },
      "execution_count": null,
      "outputs": [
        {
          "output_type": "stream",
          "name": "stdout",
          "text": [
            "Python version\n",
            "3.10.12 (main, Jun 11 2023, 05:26:28) [GCC 11.4.0]\n"
          ]
        }
      ]
    },
    {
      "cell_type": "markdown",
      "source": [
        "# Write a Python program to display the current date and time."
      ],
      "metadata": {
        "id": "5UW7jfNSrWoj"
      }
    },
    {
      "cell_type": "code",
      "source": [
        "import datetime\n",
        "now = datetime.datetime.now()\n",
        "print (\"Current date and time : \")\n",
        "print (now.strftime(\"%Y-%m-%d %H:%M:%S\"))"
      ],
      "metadata": {
        "colab": {
          "base_uri": "https://localhost:8080/"
        },
        "id": "ylrksGUVrSQM",
        "outputId": "6a413b20-dc83-4786-d04b-fb7c866142d6"
      },
      "execution_count": null,
      "outputs": [
        {
          "output_type": "stream",
          "name": "stdout",
          "text": [
            "Current date and time : \n",
            "2023-10-01 14:39:28\n"
          ]
        }
      ]
    },
    {
      "cell_type": "markdown",
      "source": [
        "#4. Write a Python program that calculates the area of a circle based on the radius entered by the user."
      ],
      "metadata": {
        "id": "m9qzQBgcrq4M"
      }
    },
    {
      "cell_type": "code",
      "source": [
        "def circle_area(radius):\n",
        "  area=3.14*radius**2\n",
        "  return area\n",
        "\n",
        "circle_area(1)"
      ],
      "metadata": {
        "colab": {
          "base_uri": "https://localhost:8080/"
        },
        "id": "YEZDk32WrhFd",
        "outputId": "a1e5d62e-ab2a-413c-f23e-f6b81839f673"
      },
      "execution_count": null,
      "outputs": [
        {
          "output_type": "execute_result",
          "data": {
            "text/plain": [
              "3.14"
            ]
          },
          "metadata": {},
          "execution_count": 6
        }
      ]
    },
    {
      "cell_type": "markdown",
      "source": [
        "#5. Write a Python program that accepts the user's first and last name and prints them in reverse order with a space between them."
      ],
      "metadata": {
        "id": "XcuoarQ7sKWD"
      }
    },
    {
      "cell_type": "code",
      "source": [
        "def name():\n",
        "  first_name=input()\n",
        "  last_name=input()\n",
        "\n",
        "  return (last_name+' '+first_name)"
      ],
      "metadata": {
        "id": "diACq2ker-Xw"
      },
      "execution_count": null,
      "outputs": []
    },
    {
      "cell_type": "code",
      "source": [
        "name()"
      ],
      "metadata": {
        "colab": {
          "base_uri": "https://localhost:8080/",
          "height": 70
        },
        "id": "HvsCF5uGskU5",
        "outputId": "4507fafb-60d8-40a4-c5e3-0c22f8fccaa4"
      },
      "execution_count": null,
      "outputs": [
        {
          "name": "stdout",
          "output_type": "stream",
          "text": [
            "ravi\n",
            "sinha\n"
          ]
        },
        {
          "output_type": "execute_result",
          "data": {
            "text/plain": [
              "'sinha ravi'"
            ],
            "application/vnd.google.colaboratory.intrinsic+json": {
              "type": "string"
            }
          },
          "metadata": {},
          "execution_count": 9
        }
      ]
    },
    {
      "cell_type": "markdown",
      "source": [
        "#6. Write a Python program that accepts a sequence of comma-separated numbers from the user and generates a list and a tuple of those numbers.\n",
        "\n",
        "\n",
        "\n",
        "```\n",
        "Sample data : 3, 5, 7, 23\n",
        "Output :\n",
        "List : ['3', ' 5', ' 7', ' 23']\n",
        "Tuple : ('3', ' 5', ' 7', ' 23')\n",
        "```\n",
        "\n"
      ],
      "metadata": {
        "id": "yN_RMaUZtLHz"
      }
    },
    {
      "cell_type": "code",
      "source": [
        "list_=[]\n",
        "tupple_=()\n",
        "n_numbers=int(input())\n",
        "i=0\n",
        "while i <n_numbers:\n",
        "  numbers=input()\n",
        "  list_.append(numbers)\n",
        "  tupple_=tupple_+ (numbers,)\n",
        "  i=i+1\n",
        "print(list_)\n",
        "print(tupple_)"
      ],
      "metadata": {
        "colab": {
          "base_uri": "https://localhost:8080/"
        },
        "id": "27BrsFhrtAmf",
        "outputId": "0affbf6e-3412-44aa-d19c-2fca9631e84a"
      },
      "execution_count": null,
      "outputs": [
        {
          "output_type": "stream",
          "name": "stdout",
          "text": [
            "4\n",
            "3\n",
            "['3']\n",
            "('3',)\n",
            "5\n",
            "['3', '5']\n",
            "('3', '5')\n",
            "7\n",
            "['3', '5', '7']\n",
            "('3', '5', '7')\n",
            "23\n",
            "['3', '5', '7', '23']\n",
            "('3', '5', '7', '23')\n"
          ]
        }
      ]
    },
    {
      "cell_type": "markdown",
      "source": [
        "#7. Write a Python program that accepts a filename from the user and prints the extension of the file.\n",
        "\n",
        "\n",
        "```\n",
        "Sample filename : abc.java\n",
        "Output : java\n",
        "```\n",
        "\n"
      ],
      "metadata": {
        "id": "taTuMH62vNOy"
      }
    },
    {
      "cell_type": "code",
      "source": [
        "def Sample_filename():\n",
        "  file_=input()\n",
        "  return file_.split('.')[1]\n",
        "\n",
        "Sample_filename()"
      ],
      "metadata": {
        "colab": {
          "base_uri": "https://localhost:8080/",
          "height": 53
        },
        "id": "DfLx-2WWuQDE",
        "outputId": "0acd3fdb-1bea-45f7-caa6-609652f00e75"
      },
      "execution_count": null,
      "outputs": [
        {
          "name": "stdout",
          "output_type": "stream",
          "text": [
            "abc.java\n"
          ]
        },
        {
          "output_type": "execute_result",
          "data": {
            "text/plain": [
              "'java'"
            ],
            "application/vnd.google.colaboratory.intrinsic+json": {
              "type": "string"
            }
          },
          "metadata": {},
          "execution_count": 17
        }
      ]
    },
    {
      "cell_type": "markdown",
      "source": [
        "#8. Write a Python program to display the first and last colors from the following list.\n",
        "color_list = [\"Red\",\"Green\",\"White\" ,\"Black\"]"
      ],
      "metadata": {
        "id": "Gf2n9QqI1hio"
      }
    },
    {
      "cell_type": "code",
      "source": [
        "def color():\n",
        "  l=[\"Red\",\"Green\",\"White\" ,\"Black\"]\n",
        "  print(f'first_color {l[0]},last_color {l[-1]}')\n",
        "color()"
      ],
      "metadata": {
        "colab": {
          "base_uri": "https://localhost:8080/"
        },
        "id": "mFrvumNR07QY",
        "outputId": "40c8cb49-0e5d-402c-c2b0-b1a8180eb3d1"
      },
      "execution_count": null,
      "outputs": [
        {
          "output_type": "stream",
          "name": "stdout",
          "text": [
            "first_color Red,last_color Black\n"
          ]
        }
      ]
    },
    {
      "cell_type": "markdown",
      "source": [
        "#9. Write a Python program to display the examination schedule. (extract the date from exam_st_date).\n",
        "\n",
        "```\n",
        "exam_st_date = (11, 12, 2014)\n",
        "Sample Output : The examination will start from : 11 / 12 / 2014\n",
        "\n",
        "```\n",
        "\n"
      ],
      "metadata": {
        "id": "ce6NXGnKDpBg"
      }
    },
    {
      "cell_type": "code",
      "source": [
        "import datetime\n",
        "exam_st_date = (11, 12, 2014)\n",
        "print(\"The examination will start from : %i / %i / %i\"%exam_st_date)"
      ],
      "metadata": {
        "colab": {
          "base_uri": "https://localhost:8080/"
        },
        "id": "BsTrPbcg18BH",
        "outputId": "b7e88fdc-a873-44bc-a948-a1120c17447e"
      },
      "execution_count": null,
      "outputs": [
        {
          "output_type": "stream",
          "name": "stdout",
          "text": [
            "The examination will start from : 11 / 12 / 2014\n"
          ]
        }
      ]
    },
    {
      "cell_type": "markdown",
      "source": [
        "#10. Write a Python program that accepts an integer (n) and computes the value of n+nn+nnn.\n",
        "\n",
        "```\n",
        "Sample value of n is 5\n",
        "Expected Result : 615\n",
        "\n",
        "```\n",
        "\n"
      ],
      "metadata": {
        "id": "Qi0KAI1uERun"
      }
    },
    {
      "cell_type": "code",
      "source": [
        "n=input()\n",
        "result=int(n)+int(n+n)+int(n+n+n)\n",
        "result"
      ],
      "metadata": {
        "colab": {
          "base_uri": "https://localhost:8080/"
        },
        "id": "FWtqqQ9eEMPx",
        "outputId": "20de88c1-90d5-4f75-b221-6c951d20f5c9"
      },
      "execution_count": null,
      "outputs": [
        {
          "name": "stdout",
          "output_type": "stream",
          "text": [
            "5\n"
          ]
        },
        {
          "output_type": "execute_result",
          "data": {
            "text/plain": [
              "615"
            ]
          },
          "metadata": {},
          "execution_count": 25
        }
      ]
    },
    {
      "cell_type": "markdown",
      "source": [
        "#11. Write a Python program to print the documents (syntax, description etc.) of Python built-in function(s).\n",
        "Sample function : abs()\n",
        "Expected Result :\n",
        "abs(number) -> number\n",
        "Return the absolute value of the argument."
      ],
      "metadata": {
        "id": "tqSN0BXxFVPz"
      }
    },
    {
      "cell_type": "code",
      "source": [],
      "metadata": {
        "id": "mHYs5rajElci"
      },
      "execution_count": null,
      "outputs": []
    },
    {
      "cell_type": "markdown",
      "source": [
        "#12. Write a Python program that prints the calendar for a given month and year.\n",
        "Note : Use 'calendar' module."
      ],
      "metadata": {
        "id": "z1CEUhaTFkMu"
      }
    },
    {
      "cell_type": "code",
      "source": [
        "import calendar\n",
        "y = int(input(\"Input the year : \"))\n",
        "m = int(input(\"Input the month : \"))\n",
        "print(calendar.month(y, m))"
      ],
      "metadata": {
        "colab": {
          "base_uri": "https://localhost:8080/"
        },
        "id": "rDJf8IdWFlxM",
        "outputId": "d871d273-a659-42f8-be04-87a1127ae582"
      },
      "execution_count": null,
      "outputs": [
        {
          "output_type": "stream",
          "name": "stdout",
          "text": [
            "Input the year : 2023\n",
            "Input the month : 10\n",
            "    October 2023\n",
            "Mo Tu We Th Fr Sa Su\n",
            "                   1\n",
            " 2  3  4  5  6  7  8\n",
            " 9 10 11 12 13 14 15\n",
            "16 17 18 19 20 21 22\n",
            "23 24 25 26 27 28 29\n",
            "30 31\n",
            "\n"
          ]
        }
      ]
    },
    {
      "cell_type": "markdown",
      "source": [
        "#13. Write a Python program to print the following 'here document'.\n",
        "\n",
        "```\n",
        "Sample string :\n",
        "a string that you \"don't\" have to escape\n",
        "This\n",
        "is a ....... multi-line\n",
        "heredoc string --------> example\n",
        "\n",
        "\n",
        "```\n",
        "\n"
      ],
      "metadata": {
        "id": "R7fxHd6rGJaV"
      }
    },
    {
      "cell_type": "markdown",
      "source": [
        "#14. Write a Python program to calculate the number of days between two dates.\n",
        "\n",
        "\n",
        "```\n",
        "Sample dates : (2014, 7, 2), (2014, 7, 11)\n",
        "Expected output : 9 days\n",
        "```\n",
        "\n"
      ],
      "metadata": {
        "id": "AlOsPlcGGnC2"
      }
    },
    {
      "cell_type": "code",
      "source": [
        "from datetime import date\n",
        "f_date = date(2014, 7, 2)\n",
        "l_date = date(2014, 7, 11)\n",
        "delta = l_date - f_date\n",
        "print(delta.days)"
      ],
      "metadata": {
        "colab": {
          "base_uri": "https://localhost:8080/"
        },
        "id": "LaysFyLzFxrh",
        "outputId": "9e29b769-51a1-480b-a116-8d8070f08749"
      },
      "execution_count": null,
      "outputs": [
        {
          "output_type": "stream",
          "name": "stdout",
          "text": [
            "9\n"
          ]
        }
      ]
    },
    {
      "cell_type": "markdown",
      "source": [
        "#15. Write a Python program to get the volume of a sphere with radius six.\n"
      ],
      "metadata": {
        "id": "PU2bVCP5HNPG"
      }
    },
    {
      "cell_type": "code",
      "source": [
        "r=int(input())\n",
        "vol=4*3.14*r**3/3\n",
        "vol"
      ],
      "metadata": {
        "colab": {
          "base_uri": "https://localhost:8080/"
        },
        "id": "ilytsdOeG-Fl",
        "outputId": "0b3c3dcd-5a77-49e1-f372-0f6fdcc3430a"
      },
      "execution_count": null,
      "outputs": [
        {
          "name": "stdout",
          "output_type": "stream",
          "text": [
            "6\n"
          ]
        },
        {
          "output_type": "execute_result",
          "data": {
            "text/plain": [
              "904.32"
            ]
          },
          "metadata": {},
          "execution_count": 33
        }
      ]
    },
    {
      "cell_type": "markdown",
      "source": [
        "#16. Write a Python program to calculate the difference between a given number and 17. If the number is greater than 17, return twice the absolute difference."
      ],
      "metadata": {
        "id": "g483MJ-xHn5O"
      }
    },
    {
      "cell_type": "code",
      "source": [
        "def num():\n",
        "  n1=int(input())\n",
        "  n2=17\n",
        "  if n1>n2:\n",
        "    return abs(2*(n2-n1))\n",
        "  else:\n",
        "    return n2-n1\n",
        "num()"
      ],
      "metadata": {
        "colab": {
          "base_uri": "https://localhost:8080/"
        },
        "id": "1VO8AUTIHc4E",
        "outputId": "8cfe67bf-8770-47ba-d04e-512b7100eb55"
      },
      "execution_count": null,
      "outputs": [
        {
          "name": "stdout",
          "output_type": "stream",
          "text": [
            "20\n"
          ]
        },
        {
          "output_type": "execute_result",
          "data": {
            "text/plain": [
              "6"
            ]
          },
          "metadata": {},
          "execution_count": 36
        }
      ]
    },
    {
      "cell_type": "markdown",
      "source": [
        "#17. Write a Python program to test whether a number is within 100 of 1000 or 2000."
      ],
      "metadata": {
        "id": "kGJ5u0f6IV69"
      }
    },
    {
      "cell_type": "code",
      "source": [
        "def test():\n",
        "  n=int(input())\n",
        "  if ((abs(1000 - n) <= 100) or (abs(2000 - n) <= 100)):\n",
        "    return True\n",
        "  else:\n",
        "    return False\n",
        "test()\n"
      ],
      "metadata": {
        "colab": {
          "base_uri": "https://localhost:8080/"
        },
        "id": "O6qgq7WbINWI",
        "outputId": "963d3f98-5cb1-4093-a983-950142c0b2ee"
      },
      "execution_count": null,
      "outputs": [
        {
          "name": "stdout",
          "output_type": "stream",
          "text": [
            "50\n"
          ]
        },
        {
          "output_type": "execute_result",
          "data": {
            "text/plain": [
              "False"
            ]
          },
          "metadata": {},
          "execution_count": 39
        }
      ]
    },
    {
      "cell_type": "markdown",
      "source": [
        "#18. Write a Python program to calculate the sum of three given numbers. If the values are equal, return three times their sum."
      ],
      "metadata": {
        "id": "r5OwJcSBJ8Xu"
      }
    },
    {
      "cell_type": "markdown",
      "source": [
        "#19. Write a Python program to get a newly-generated string from a given string where \"Is\" has been added to the front. Return the string unchanged if the given string already begins with \"Is\"."
      ],
      "metadata": {
        "id": "LYseGrvfKCXe"
      }
    },
    {
      "cell_type": "markdown",
      "source": [
        "#20. Write a Python program that returns a string that is n (non-negative integer) copies of a given string."
      ],
      "metadata": {
        "id": "eY792S_SKMIN"
      }
    },
    {
      "cell_type": "code",
      "source": [
        "n=abs(int(input()))\n",
        "string_='s'\n",
        "result=string_*n\n",
        "result"
      ],
      "metadata": {
        "colab": {
          "base_uri": "https://localhost:8080/",
          "height": 53
        },
        "id": "NZQqRKByJi1t",
        "outputId": "1bde1d2d-eb77-4f34-f673-056c7a4b8d28"
      },
      "execution_count": null,
      "outputs": [
        {
          "name": "stdout",
          "output_type": "stream",
          "text": [
            "3\n"
          ]
        },
        {
          "output_type": "execute_result",
          "data": {
            "text/plain": [
              "'sss'"
            ],
            "application/vnd.google.colaboratory.intrinsic+json": {
              "type": "string"
            }
          },
          "metadata": {},
          "execution_count": 42
        }
      ]
    },
    {
      "cell_type": "markdown",
      "source": [
        "#21. Write a Python program that determines whether a given number (accepted from the user) is even or odd, and prints an appropriate message to the user."
      ],
      "metadata": {
        "id": "4SR1TeORPBCF"
      }
    },
    {
      "cell_type": "code",
      "source": [
        "def even_odd(n):\n",
        "  if n%2==0:\n",
        "    print('The number is even')\n",
        "  else:\n",
        "    print('The number is odd')\n",
        "\n",
        "even_odd(5)"
      ],
      "metadata": {
        "id": "VsAn0JmeKaMK",
        "colab": {
          "base_uri": "https://localhost:8080/"
        },
        "outputId": "216f3b38-89f6-4599-c0d7-6ff8e1ec57c0"
      },
      "execution_count": null,
      "outputs": [
        {
          "output_type": "stream",
          "name": "stdout",
          "text": [
            "The number is odd\n"
          ]
        }
      ]
    },
    {
      "cell_type": "markdown",
      "source": [
        "#22. Write a Python program to count the number 4 in a given list."
      ],
      "metadata": {
        "id": "LXGu5WbTP93P"
      }
    },
    {
      "cell_type": "code",
      "source": [
        "def list_count_4(nums):\n",
        "  count = 0\n",
        "  for num in nums:\n",
        "    if num == 4:\n",
        "      count = count + 1\n",
        "\n",
        "  return count"
      ],
      "metadata": {
        "id": "_S-0IImKPyWL"
      },
      "execution_count": null,
      "outputs": []
    },
    {
      "cell_type": "markdown",
      "source": [
        "#23. Write a Python program to get n (non-negative integer) copies of the first 2 characters of a given string. Return n copies of the whole string if the length is less than 2."
      ],
      "metadata": {
        "id": "J39ohjpmQUr-"
      }
    },
    {
      "cell_type": "markdown",
      "source": [
        "#24. Write a Python program to test whether a passed letter is a vowel or not."
      ],
      "metadata": {
        "id": "Ju_XrSW1SKMv"
      }
    },
    {
      "cell_type": "code",
      "source": [
        "def v_c():\n",
        "  vowel=['a','e','i','o','u']\n",
        "\n",
        "  l=input()\n",
        "  if l in vowel:\n",
        "    print('it is a vowel')\n",
        "  else:\n",
        "    print('it is not a vowel')\n",
        "v_c()"
      ],
      "metadata": {
        "colab": {
          "base_uri": "https://localhost:8080/"
        },
        "id": "yEBaPr4TQSaa",
        "outputId": "fdf3e811-181c-4ed7-d493-5868614b9e15"
      },
      "execution_count": null,
      "outputs": [
        {
          "output_type": "stream",
          "name": "stdout",
          "text": [
            "a\n",
            "it is a vowel\n"
          ]
        }
      ]
    },
    {
      "cell_type": "markdown",
      "source": [
        "#25. Write a Python program that checks whether a specified value is contained within a group of values."
      ],
      "metadata": {
        "id": "x-w83lz2UswN"
      }
    },
    {
      "cell_type": "markdown",
      "source": [
        "#26. Write a Python program to create a histogram from a given list of integers."
      ],
      "metadata": {
        "id": "XCorXmrEU6dU"
      }
    },
    {
      "cell_type": "markdown",
      "source": [
        "#27. Write a Python program that concatenates all elements in a list into a string and returns it."
      ],
      "metadata": {
        "id": "x4r49ga9U-0T"
      }
    },
    {
      "cell_type": "code",
      "source": [
        "def concatenate_list_data(list):\n",
        "    result= ''\n",
        "    for element in list:\n",
        "        result += str(element)\n",
        "    return result\n",
        "concatenate_list_data([1,5,7,9])"
      ],
      "metadata": {
        "colab": {
          "base_uri": "https://localhost:8080/",
          "height": 36
        },
        "id": "x8g4dQJgT3_c",
        "outputId": "fb669bd0-271a-43b6-b82d-174efcd27b42"
      },
      "execution_count": null,
      "outputs": [
        {
          "output_type": "execute_result",
          "data": {
            "text/plain": [
              "'1579'"
            ],
            "application/vnd.google.colaboratory.intrinsic+json": {
              "type": "string"
            }
          },
          "metadata": {},
          "execution_count": 10
        }
      ]
    },
    {
      "cell_type": "markdown",
      "source": [
        "#28. Write a Python program that prints out all colors from color_list_1 that are not present in color_list_2.\n",
        "\n",
        "\n",
        "```\n",
        "Test Data :\n",
        "color_list_1 = set([\"White\", \"Black\", \"Red\"])\n",
        "color_list_2 = set([\"Red\", \"Green\"])\n",
        "Expected Output :\n",
        "{'Black', 'White'}\n",
        "\n",
        "```\n",
        "\n"
      ],
      "metadata": {
        "id": "vGE38HxpWuSu"
      }
    },
    {
      "cell_type": "code",
      "source": [
        "color_list_1 = set([\"White\", \"Black\", \"Red\"])\n",
        "color_list_2 = set([\"Red\", \"Green\"])\n",
        "\n",
        "result = color_list_1 - color_list_2\n",
        "print(result)\n"
      ],
      "metadata": {
        "id": "_mzAvE6ET7Hy",
        "colab": {
          "base_uri": "https://localhost:8080/"
        },
        "outputId": "0cf7b7ce-1a65-45a5-b394-4ee5e4fb3a85"
      },
      "execution_count": null,
      "outputs": [
        {
          "output_type": "stream",
          "name": "stdout",
          "text": [
            "{'Black', 'White'}\n"
          ]
        }
      ]
    },
    {
      "cell_type": "markdown",
      "source": [
        "#29. Write a Python program that computes the greatest common divisor (GCD) of two positive integers."
      ],
      "metadata": {
        "id": "ZvXZNjb_aBfO"
      }
    },
    {
      "cell_type": "code",
      "source": [
        "# Function to compute GCD using Euclidean Algorithm\n",
        "def gcd(num1, num2):\n",
        "    while num2:\n",
        "      print(num2)\n",
        "      num1, num2 = num2, num1 % num2\n",
        "      print(num1,num2)\n",
        "    return num1\n",
        "\n",
        "# Input two positive integers\n",
        "num1 = int(input(\"Enter the first positive integer: \"))\n",
        "num2 = int(input(\"Enter the second positive integer: \"))\n",
        "\n",
        "# Compute the GCD using the custom gcd function\n",
        "result = gcd(num1, num2)\n",
        "\n",
        "print(f\"The GCD of {num1} and {num2} is {result}\")\n"
      ],
      "metadata": {
        "colab": {
          "base_uri": "https://localhost:8080/"
        },
        "id": "6wQXr4dTXJ51",
        "outputId": "632e627b-c06b-4555-a236-ed0c12a322bf"
      },
      "execution_count": null,
      "outputs": [
        {
          "output_type": "stream",
          "name": "stdout",
          "text": [
            "Enter the first positive integer: 3\n",
            "Enter the second positive integer: 9\n",
            "9\n",
            "9 3\n",
            "3\n",
            "3 0\n",
            "The GCD of 3 and 9 is 3\n"
          ]
        }
      ]
    },
    {
      "cell_type": "markdown",
      "source": [
        "#32. Write a Python program to find the least common multiple (LCM) of two positive integers."
      ],
      "metadata": {
        "id": "MygVDC3JCGKo"
      }
    },
    {
      "cell_type": "code",
      "source": [
        "def gcd(num1, num2):\n",
        "    while num2:\n",
        "        num1, num2 = num2, num1 % num2\n",
        "    return num1  # Return num1, not num2\n",
        "\n",
        "def lcm(num1, num2):\n",
        "    return (num1 * num2) // gcd(num1, num2)\n",
        "\n",
        "# Input two positive integers\n",
        "num1 = int(input(\"Enter the first positive integer: \"))\n",
        "num2 = int(input(\"Enter the second positive integer: \"))\n",
        "\n",
        "# Calculate the LCM using the custom functions\n",
        "result = lcm(num1, num2)\n",
        "\n",
        "print(f\"The LCM of {num1} and {num2} is {result}\")\n"
      ],
      "metadata": {
        "colab": {
          "base_uri": "https://localhost:8080/"
        },
        "id": "I7er8-w7ueMf",
        "outputId": "c6ce217a-74f7-41f5-c355-32b9f715e2e2"
      },
      "execution_count": null,
      "outputs": [
        {
          "output_type": "stream",
          "name": "stdout",
          "text": [
            "Enter the first positive integer: 3\n",
            "Enter the second positive integer: 27\n",
            "The LCM of 3 and 27 is 27\n"
          ]
        }
      ]
    },
    {
      "cell_type": "markdown",
      "source": [
        "#33.Write a Python program to sum three given integers. However, if two values are equal, the sum will be zero."
      ],
      "metadata": {
        "id": "hVtbREh2EFeV"
      }
    },
    {
      "cell_type": "code",
      "source": [
        "def summ(a,b,c):\n",
        "  if a==b or b==c or a==c:\n",
        "    k=a+b+c\n",
        "    print(f'the sum is {0}')\n",
        "  else:\n",
        "    print(f'the sum is {a+b+c}')\n",
        "summ(2,3,5)"
      ],
      "metadata": {
        "colab": {
          "base_uri": "https://localhost:8080/"
        },
        "id": "cWycHu9TDxp-",
        "outputId": "7f5e8888-c6e6-4a2f-b573-1e55b130e9e1"
      },
      "execution_count": null,
      "outputs": [
        {
          "output_type": "stream",
          "name": "stdout",
          "text": [
            "the sum is 10\n"
          ]
        }
      ]
    },
    {
      "cell_type": "markdown",
      "source": [
        "#34. Write a Python program to check whether a file exists."
      ],
      "metadata": {
        "id": "ComnVBBBWv8k"
      }
    },
    {
      "cell_type": "code",
      "source": [
        "import os\n",
        "\n",
        "# Input the file path\n",
        "file_path = input(\"Enter the file path: \")\n",
        "\n",
        "# Check if the file exists\n",
        "if os.path.exists(file_path):\n",
        "    print(f\"The file '{file_path}' exists.\")\n",
        "else:\n",
        "    print(f\"The file '{file_path}' does not exist.\")\n"
      ],
      "metadata": {
        "colab": {
          "base_uri": "https://localhost:8080/"
        },
        "id": "dAfTtK_-SfJv",
        "outputId": "883fb74e-0ccf-4aaa-b620-4776c5d0115c"
      },
      "execution_count": null,
      "outputs": [
        {
          "output_type": "stream",
          "name": "stdout",
          "text": [
            "Enter the file path: c\n",
            "The file 'c' does not exist.\n"
          ]
        }
      ]
    },
    {
      "cell_type": "code",
      "source": [
        "import sys\n",
        "\n",
        "# Get the path to the site packages directory\n",
        "site_packages_path = None\n",
        "for path in sys.path:\n",
        "    if 'site-packages' in path:\n",
        "        site_packages_path = path\n",
        "        break\n",
        "\n",
        "if site_packages_path:\n",
        "    print(f\"The site packages directory is located at: {site_packages_path}\")\n",
        "else:\n",
        "    print(\"Site packages directory not found.\")\n"
      ],
      "metadata": {
        "colab": {
          "base_uri": "https://localhost:8080/"
        },
        "id": "JzOVLHjeW1HM",
        "outputId": "3c49ae93-ebfb-4666-bef5-4c2084b2586d"
      },
      "execution_count": null,
      "outputs": [
        {
          "output_type": "stream",
          "name": "stdout",
          "text": [
            "Site packages directory not found.\n"
          ]
        }
      ]
    },
    {
      "cell_type": "code",
      "source": [],
      "metadata": {
        "id": "37NYC48kXCVZ"
      },
      "execution_count": null,
      "outputs": []
    }
  ]
}